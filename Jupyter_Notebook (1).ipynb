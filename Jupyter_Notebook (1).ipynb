{
 "cells": [
  {
   "cell_type": "markdown",
   "metadata": {},
   "source": [
    "<center>\n",
    "    <img src=\"https://cf-courses-data.s3.us.cloud-object-storage.appdomain.cloud/IBMDeveloperSkillsNetwork-DS0105EN-SkillsNetwork/labs/Module2/images/SN_web_lightmode.png\" width=\"300\" alt=\"cognitiveclass.ai logo\"  />\n",
    "</center>\n"
   ]
  },
  {
   "cell_type": "markdown",
   "metadata": {},
   "source": [
    "#### Add your code below following the instructions given in the course\n"
   ]
  },
  {
   "cell_type": "markdown",
   "metadata": {},
   "source": [
    "# My Jupyter Notebook on IBM Watson Studio"
   ]
  },
  {
   "cell_type": "markdown",
   "metadata": {},
   "source": [
    "__Andrés Macedo__\n",
    "<br>\n",
    "Nuclear Energy Researcher"
   ]
  },
  {
   "cell_type": "markdown",
   "metadata": {},
   "source": [
    "*My interest in data science began with a conversation with my cousin, after that and some investigation, I realized I can use data science to improve my quality of work in my college and also obtain oportunities to be a part of a better research team.*"
   ]
  },
  {
   "cell_type": "markdown",
   "metadata": {},
   "source": [
    "### This code evaluates the polynomial x^2+2x+1 at a given \"x\" ###"
   ]
  },
  {
   "cell_type": "code",
   "execution_count": 1,
   "metadata": {},
   "outputs": [
    {
     "name": "stdout",
     "output_type": "stream",
     "text": [
      "Result:  16.0\n"
     ]
    }
   ],
   "source": [
    "import numpy as np\n",
    "from numpy.polynomial.polynomial import polyval\n",
    "\n",
    "# Coefficients\n",
    "c = np.array([1, 2, 1])\n",
    "\n",
    "# Result\n",
    "# The first value en polyval is the chosen \"x\", in this case I chose 3.\n",
    "print(\"Result: \",polyval(3, c))\n"
   ]
  },
  {
   "cell_type": "markdown",
   "metadata": {},
   "source": [
    "1. list item 1\n",
    "2. list item 2\n",
    "<cb>\n",
    "*  bullet item 1\n",
    "*  bullet item 2\n",
    "\n",
    "__[a youtube video that inspires me](https://www.youtube.com/watch?v=iE3kD4X_Fwg)__\n",
    "\n",
    "\n",
    "|xi|f(xi)|\n",
    "|--|-----|\n",
    "|2 |  9  |\n",
    "|3 | 16  |"
   ]
  }
 ],
 "metadata": {
  "kernelspec": {
   "display_name": "Python",
   "language": "python",
   "name": "conda-env-python-py"
  },
  "language_info": {
   "codemirror_mode": {
    "name": "ipython",
    "version": 3
   },
   "file_extension": ".py",
   "mimetype": "text/x-python",
   "name": "python",
   "nbconvert_exporter": "python",
   "pygments_lexer": "ipython3",
   "version": "3.7.12"
  }
 },
 "nbformat": 4,
 "nbformat_minor": 4
}
